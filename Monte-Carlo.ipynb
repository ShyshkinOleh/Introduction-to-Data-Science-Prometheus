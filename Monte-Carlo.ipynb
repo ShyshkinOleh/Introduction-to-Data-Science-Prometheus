{
 "cells": [
  {
   "cell_type": "markdown",
   "metadata": {},
   "source": [
    "Отже, на останньому етапі ми маємо результат нашої моделі - це ймовірність того, що клієнт банку купить інвестиційний продукт. Я не можу вам надати приклад реальних данних, але вони виглядають досить схоже на логонормальний розподіл, тому ми можемо скористатися сгенерованими випадковими данними."
   ]
  },
  {
   "cell_type": "code",
   "execution_count": 30,
   "metadata": {
    "collapsed": false
   },
   "outputs": [
    {
     "data": {
      "image/png": "[encoded data removed]",
      "text/plain": [
       "<matplotlib.figure.Figure at 0xb67a198>"
      ]
     },
     "metadata": {},
     "output_type": "display_data"
    },
    {
     "data": {
      "text/plain": [
       "<ggplot: (3697342)>"
      ]
     },
     "execution_count": 30,
     "metadata": {},
     "output_type": "execute_result"
    }
   ],
   "source": [
    "import pandas as pd\n",
    "from ggplot import *\n",
    "%matplotlib inline\n",
    "\n",
    "data = pd.read_csv('sale_probability.csv')\n",
    "ggplot(aes(x='Sales probability'), data=pd.DataFrame({ 'Sales probability' : data['probabilities'] })) \\\n",
    "    + geom_histogram(binwidth=0.02, color='darkcyan', fill=\"white\") "
   ]
  },
  {
   "cell_type": "markdown",
   "metadata": {},
   "source": [
    "Тепер наша задача обрати таку группу клієнтів для контактів, яка матиме найбільший ефект на продажі за найменших затрат. Іншими словами: зробити меншу кількість дзвінків з найбільшим прибутком. Для цього ми можемо симулювати продажі, використовуючі отримані ймовіності для різних параметрів таргет группи. Ми використаємо парметри min_probability та max_probability, між якими ми будемо обирати клієнтів для контакту.\n",
    "Ми можемо розрахувати, збільшить чи змешить ймовірність продажів дзвінок клієнту (sales uplift), використовуючі дані про попередні контакти, але ми не маємо цих данних. Тому ми оберемо тривіальну модель uplift: додамо до ймовірності клієнта 0.1, якщо ми йому подзвонили. "
   ]
  },
  {
   "cell_type": "markdown",
   "metadata": {},
   "source": [
    "Ще для еффективної моделі нам не вистачає функції прибутку від наших дзвінків. Вона має виглядати приблизно ось так:\n",
    "$$income=N_{sales}*avg(income_{sale})-N_{contacts}*avg(costs_{contact})$$\n",
    "Ми не можемо отримати точної фукнції, так як ми не маємо данних про витрати на контакти з клієнтом та не маємо данних про дохід, котрий банк отримує з інвестиційних продуктів. Але для прикладу можна ці параметри вигадати!"
   ]
  },
  {
   "cell_type": "code",
   "execution_count": 31,
   "metadata": {
    "collapsed": false
   },
   "outputs": [],
   "source": [
    "import numpy.random as rnd\n",
    "import numpy as np\n",
    "\n",
    "result = []\n",
    "def monte_carlo_coin(probability):\n",
    "    r = rnd.uniform()\n",
    "    return int(r < probability)\n",
    "\n",
    "def income(n_sales, n_contacts):\n",
    "    avg_income_sale = 10.0\n",
    "    avg_costs_contact = 2.0\n",
    "    return n_sales*avg_income_sale - n_contacts*avg_costs_contact\n",
    "\n",
    "for min_probability in np.arange(0.0,0.9,0.1):\n",
    "    for max_probability in np.arange(min_probability+0.1,1.0,0.1):\n",
    "        # uplift\n",
    "        target_group = data.probabilities.between(min_probability, max_probability)\n",
    "        data_after_contact = data.copy()\n",
    "        data_after_contact.ix[target_group, 'probabilities'] = data.ix[target_group].probabilities + 0.1\n",
    "        \n",
    "        # simulation\n",
    "        data_after_contact['sales'] = data_after_contact['probabilities'].apply(monte_carlo_coin)\n",
    "        \n",
    "        # results\n",
    "        sales = data_after_contact['sales'].sum(axis=0)\n",
    "        calls = target_group.sum(axis=0)\n",
    "        inc = income(sales, calls)\n",
    "        result.append((min_probability, max_probability, sales, calls, inc))\n",
    "        \n",
    "result = sorted(result, key=lambda x: x[4])\n",
    "result[-1]"
   ]
  },
  {
   "cell_type": "markdown",
   "metadata": {},
   "source": [
    "В результаті ми маємо дуже грубо і приблизно пораховану інвестиційно привабливу таргет группу клієнтів за ознакою їх схильності до купівлі продуктів банку."
   ]
  }
 ],
 "metadata": {
  "anaconda-cloud": {},
  "kernelspec": {
   "display_name": "Python [Root]",
   "language": "python",
   "name": "Python [Root]"
  },
  "language_info": {
   "codemirror_mode": {
    "name": "ipython",
    "version": 2
   },
   "file_extension": ".py",
   "mimetype": "text/x-python",
   "name": "python",
   "nbconvert_exporter": "python",
   "pygments_lexer": "ipython2",
   "version": "2.7.12"
  }
 },
 "nbformat": 4,
 "nbformat_minor": 0
}
